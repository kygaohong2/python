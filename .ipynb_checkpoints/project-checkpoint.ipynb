{
 "cells": [
  {
   "cell_type": "code",
   "execution_count": 9,
   "metadata": {},
   "outputs": [
    {
     "ename": "SyntaxError",
     "evalue": "unexpected EOF while parsing (<ipython-input-9-7c41c64b3b47>, line 33)",
     "output_type": "error",
     "traceback": [
      "\u001b[1;36m  File \u001b[1;32m\"<ipython-input-9-7c41c64b3b47>\"\u001b[1;36m, line \u001b[1;32m33\u001b[0m\n\u001b[1;33m    \u001b[0m\n\u001b[1;37m    ^\u001b[0m\n\u001b[1;31mSyntaxError\u001b[0m\u001b[1;31m:\u001b[0m unexpected EOF while parsing\n"
     ]
    }
   ],
   "source": [
    "# Importing the NumPy module \n",
    "import numpy as np \n",
    "  \n",
    "# import csv file\n",
    "\n",
    "import csv\n",
    "\n",
    "import pandas\n",
    "\n",
    "with open('pm25.csv', newline = \"\") as csvfile:\n",
    "    pmreader = csv.reader(csvfile, delimiter=' ', quotechar='|')\n",
    "    for row in pmreader:\n",
    "        print(', '.join(row))\n",
    "   \n",
    " # summary statistics\n",
    "# Taking a list of elements \n",
    "\n",
    "with open(\"pm25.csv\", \"r\") as csv_file:\n",
    "    csv_reader = csv.reader(csv_file, delimiter=',')\n",
    "    for lines in csv_reader:\n",
    "      print(lines[4])\n",
    "\n",
    "\n",
    "  \n",
    "# Calculating average using average() \n",
    "print(np.average('Good_Days')\n",
    "\n",
    "\n",
    "\n",
    "\n",
    "# make graphes\n",
    "\n"
   ]
  },
  {
   "cell_type": "code",
   "execution_count": null,
   "metadata": {},
   "outputs": [],
   "source": []
  },
  {
   "cell_type": "code",
   "execution_count": null,
   "metadata": {},
   "outputs": [],
   "source": []
  }
 ],
 "metadata": {
  "kernelspec": {
   "display_name": "Python 3",
   "language": "python",
   "name": "python3"
  },
  "language_info": {
   "codemirror_mode": {
    "name": "ipython",
    "version": 3
   },
   "file_extension": ".py",
   "mimetype": "text/x-python",
   "name": "python",
   "nbconvert_exporter": "python",
   "pygments_lexer": "ipython3",
   "version": "3.8.5"
  }
 },
 "nbformat": 4,
 "nbformat_minor": 4
}
